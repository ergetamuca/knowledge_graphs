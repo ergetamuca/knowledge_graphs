{
 "cells": [
  {
   "cell_type": "markdown",
   "metadata": {},
   "source": [
    "# Network Visualization of Company Acquisitions by Google"
   ]
  },
  {
   "cell_type": "markdown",
   "metadata": {},
   "source": [
    "### Acquiring the Dataset from Wikipedia"
   ]
  },
  {
   "cell_type": "markdown",
   "metadata": {},
   "source": [
    "The data is extracted using the wikipedia package and pandas. I only care about the table that lists all the acquisitions by google, so only extracting that."
   ]
  },
  {
   "cell_type": "code",
   "execution_count": 1,
   "metadata": {},
   "outputs": [],
   "source": [
    "import pandas as pd\n",
    "import wikipedia as wp\n",
    " \n",
    "#Get the html source\n",
    "html = wp.page(\"List_of_mergers_and_acquisitions_by_Alphabet\").html().encode(\"UTF-8\")\n",
    "\n",
    "#read the html\n",
    "df = pd.read_html(html)[0]\n",
    "\n",
    "#extract only desired columns\n",
    "df_final=df[['Company','Used as or integrated with']]"
   ]
  },
  {
   "cell_type": "code",
   "execution_count": 3,
   "metadata": {},
   "outputs": [
    {
     "data": {
      "text/html": [
       "<div>\n",
       "<style scoped>\n",
       "    .dataframe tbody tr th:only-of-type {\n",
       "        vertical-align: middle;\n",
       "    }\n",
       "\n",
       "    .dataframe tbody tr th {\n",
       "        vertical-align: top;\n",
       "    }\n",
       "\n",
       "    .dataframe thead th {\n",
       "        text-align: right;\n",
       "    }\n",
       "</style>\n",
       "<table border=\"1\" class=\"dataframe\">\n",
       "  <thead>\n",
       "    <tr style=\"text-align: right;\">\n",
       "      <th></th>\n",
       "      <th>Acquired_Company</th>\n",
       "      <th>New_Operating_Entity</th>\n",
       "    </tr>\n",
       "  </thead>\n",
       "  <tbody>\n",
       "    <tr>\n",
       "      <th>0</th>\n",
       "      <td>Dejavue</td>\n",
       "      <td>Google Groups</td>\n",
       "    </tr>\n",
       "    <tr>\n",
       "      <th>1</th>\n",
       "      <td>Outride</td>\n",
       "      <td>Google Personalized Search</td>\n",
       "    </tr>\n",
       "    <tr>\n",
       "      <th>2</th>\n",
       "      <td>Pyra Labs</td>\n",
       "      <td>Blogger</td>\n",
       "    </tr>\n",
       "    <tr>\n",
       "      <th>3</th>\n",
       "      <td>Neotonic Software</td>\n",
       "      <td>Google Groups, Gmail</td>\n",
       "    </tr>\n",
       "    <tr>\n",
       "      <th>4</th>\n",
       "      <td>Applied Semantics</td>\n",
       "      <td>AdSense, AdWords</td>\n",
       "    </tr>\n",
       "  </tbody>\n",
       "</table>\n",
       "</div>"
      ],
      "text/plain": [
       "    Acquired_Company        New_Operating_Entity\n",
       "0            Dejavue               Google Groups\n",
       "1            Outride  Google Personalized Search\n",
       "2          Pyra Labs                     Blogger\n",
       "3  Neotonic Software        Google Groups, Gmail\n",
       "4  Applied Semantics            AdSense, AdWords"
      ]
     },
     "execution_count": 3,
     "metadata": {},
     "output_type": "execute_result"
    }
   ],
   "source": [
    "#change column names\n",
    "\n",
    "##Acquired_Company: the company that Alphabet bought\n",
    "##New Operating Entity: the Alphabet entity under which the acquired company will operate\n",
    "df_final.rename(columns={'Company':'Acquired_Company',\n",
    "                    'Used as or integrated with':'New_Operating_Entity'}, inplace=True)\n",
    "\n",
    "#drop NA's\n",
    "df_final=df_final.dropna()\n",
    "df_final.head()"
   ]
  },
  {
   "cell_type": "markdown",
   "metadata": {},
   "source": [
    "### Quick Look at the Dataset"
   ]
  },
  {
   "cell_type": "code",
   "execution_count": 4,
   "metadata": {},
   "outputs": [
    {
     "data": {
      "text/html": [
       "<div>\n",
       "<style scoped>\n",
       "    .dataframe tbody tr th:only-of-type {\n",
       "        vertical-align: middle;\n",
       "    }\n",
       "\n",
       "    .dataframe tbody tr th {\n",
       "        vertical-align: top;\n",
       "    }\n",
       "\n",
       "    .dataframe thead th {\n",
       "        text-align: right;\n",
       "    }\n",
       "</style>\n",
       "<table border=\"1\" class=\"dataframe\">\n",
       "  <thead>\n",
       "    <tr style=\"text-align: right;\">\n",
       "      <th></th>\n",
       "      <th>Acquired_Company</th>\n",
       "      <th>New_Operating_Entity</th>\n",
       "    </tr>\n",
       "  </thead>\n",
       "  <tbody>\n",
       "    <tr>\n",
       "      <th>3</th>\n",
       "      <td>Neotonic Software</td>\n",
       "      <td>Google Groups, Gmail</td>\n",
       "    </tr>\n",
       "    <tr>\n",
       "      <th>4</th>\n",
       "      <td>Applied Semantics</td>\n",
       "      <td>AdSense, AdWords</td>\n",
       "    </tr>\n",
       "    <tr>\n",
       "      <th>6</th>\n",
       "      <td>Sprinks</td>\n",
       "      <td>AdSense, AdWords</td>\n",
       "    </tr>\n",
       "    <tr>\n",
       "      <th>9</th>\n",
       "      <td>Picasa</td>\n",
       "      <td>Picasa, Blogger</td>\n",
       "    </tr>\n",
       "    <tr>\n",
       "      <th>12</th>\n",
       "      <td>Keyhole</td>\n",
       "      <td>Google Maps, Google Earth</td>\n",
       "    </tr>\n",
       "  </tbody>\n",
       "</table>\n",
       "</div>"
      ],
      "text/plain": [
       "     Acquired_Company       New_Operating_Entity\n",
       "3   Neotonic Software       Google Groups, Gmail\n",
       "4   Applied Semantics           AdSense, AdWords\n",
       "6             Sprinks           AdSense, AdWords\n",
       "9              Picasa            Picasa, Blogger\n",
       "12            Keyhole  Google Maps, Google Earth"
      ]
     },
     "execution_count": 4,
     "metadata": {},
     "output_type": "execute_result"
    }
   ],
   "source": [
    "#get all rows that contain , in their string for Acquired_Company\n",
    "df_final[df_final['Acquired_Company'].str.contains(',')].head()\n",
    "\n",
    "#get all rows that contain , in their string for New_Operating_Entity\n",
    "df_final[df_final['New_Operating_Entity'].str.contains(',')].head()"
   ]
  },
  {
   "cell_type": "markdown",
   "metadata": {},
   "source": [
    "A quick investigation of the dataset reveals that some of the acquired companies will fall under more than one operating unit within Alphabet. For example, Applied Semantic will be under Adsense and Adwords. For this reason, we need to split these multiple entities into their own rows so everything is atomized."
   ]
  },
  {
   "cell_type": "code",
   "execution_count": 5,
   "metadata": {},
   "outputs": [],
   "source": [
    "# Split entity and expand row-wise. Store in a temporary dataframe\n",
    "temp_df = df_final.New_Operating_Entity.str.split(',').apply(pd.Series, 1).stack()\n",
    "\n",
    "# Drop index level to match main dataframe\n",
    "temp_df.index = temp_df.index.droplevel(-1)\n",
    "\n",
    "# Name new column\n",
    "temp_df.name = 'New_Operating_Entity'\n",
    "\n",
    "# Delete the original entity column\n",
    "del df_final['New_Operating_Entity']\n",
    "\n",
    "# Join the original dataframe with the temp df\n",
    "df_final = df_final.join(temp_df)"
   ]
  },
  {
   "cell_type": "code",
   "execution_count": 6,
   "metadata": {},
   "outputs": [
    {
     "data": {
      "text/plain": [
       "(268, 2)"
      ]
     },
     "execution_count": 6,
     "metadata": {},
     "output_type": "execute_result"
    }
   ],
   "source": [
    "df_final.shape"
   ]
  },
  {
   "cell_type": "code",
   "execution_count": null,
   "metadata": {},
   "outputs": [],
   "source": [
    "#df_final.to_csv('alphabet_acquisitions.csv')"
   ]
  },
  {
   "cell_type": "markdown",
   "metadata": {},
   "source": [
    "### Building a Network Graph"
   ]
  },
  {
   "cell_type": "markdown",
   "metadata": {},
   "source": [
    "Start by loading all the necessary Dash and Networkx libraries.\n",
    "Resources utilized: \n",
    "* https://plot.ly/python/network-graphs/\n",
    "* https://python-graph-gallery.com/322-network-layout-possibilities/\n",
    "* https://plot.ly/python/reference/#scatter"
   ]
  },
  {
   "cell_type": "code",
   "execution_count": 7,
   "metadata": {},
   "outputs": [],
   "source": [
    "import networkx as nx\n",
    "import plotly.graph_objs as gobj"
   ]
  },
  {
   "cell_type": "code",
   "execution_count": 8,
   "metadata": {},
   "outputs": [],
   "source": [
    "#creating the node list\n",
    "Company_List= list(df_final[\"Acquired_Company\"].unique())\n",
    "Entity_List = list(df_final[\"New_Operating_Entity\"].unique())\n",
    "node_list = list(set(Company_List+Entity_List))"
   ]
  },
  {
   "cell_type": "code",
   "execution_count": 9,
   "metadata": {},
   "outputs": [
    {
     "name": "stdout",
     "output_type": "stream",
     "text": [
      "The number of nodes is: 324\n"
     ]
    }
   ],
   "source": [
    "#create graph and add each node from nodelist to graph\n",
    "G = nx.Graph()\n",
    "for i in node_list:\n",
    "    G.add_node(i)\n",
    "    \n",
    "print(\"The number of nodes is: {}\".format(len(G.nodes())))"
   ]
  },
  {
   "cell_type": "code",
   "execution_count": 10,
   "metadata": {},
   "outputs": [
    {
     "name": "stdout",
     "output_type": "stream",
     "text": [
      "The number of edges is: 268\n"
     ]
    }
   ],
   "source": [
    "#get edges from the dataset pairs\n",
    "for row, company in df_final.iterrows():\n",
    "    G.add_edges_from([(company[\"Acquired_Company\"],company[\"New_Operating_Entity\"])])\n",
    "    \n",
    "print(\"The number of edges is: {}\".format(len(G.edges())))"
   ]
  },
  {
   "cell_type": "code",
   "execution_count": 11,
   "metadata": {},
   "outputs": [],
   "source": [
    "#get x and y coordinates of nodes\n",
    "pos = nx.spring_layout(G)\n",
    "\n",
    "#add node positions to the graph\n",
    "for i, j in pos.items():\n",
    "    G.node[i]['pos'] = j"
   ]
  },
  {
   "cell_type": "code",
   "execution_count": 12,
   "metadata": {},
   "outputs": [],
   "source": [
    "#create edges\n",
    "edge_trace = gobj.Scatter(\n",
    "    x=[],\n",
    "    y=[],\n",
    "    line=dict(width=0.5,color='#a2a2a2'),\n",
    "    #hoverinfo='none',\n",
    "    mode='lines')\n",
    "\n",
    "for edge in G.edges():\n",
    "    x0, y0 = G.node[edge[0]]['pos']\n",
    "    x1, y1 = G.node[edge[1]]['pos']\n",
    "    edge_trace['x'] += tuple([x0, x1, None])\n",
    "    edge_trace['y'] += tuple([y0, y1, None])"
   ]
  },
  {
   "cell_type": "code",
   "execution_count": 13,
   "metadata": {},
   "outputs": [],
   "source": [
    "#create nodes\n",
    "node_trace = gobj.Scatter(\n",
    "    x=[],\n",
    "    y=[],\n",
    "    text=[],\n",
    "    mode='markers',\n",
    "    hoverinfo='text',\n",
    "    marker=dict(\n",
    "        showscale=True,\n",
    "        colorscale='Viridis',\n",
    "        reversescale=True,\n",
    "        color=[],\n",
    "        size=15,\n",
    "        colorbar=dict(\n",
    "            thickness=10,\n",
    "            title='Node Connections',\n",
    "            xanchor='left',\n",
    "            titleside='right'\n",
    "        ),\n",
    "        line=dict(width=0)))\n",
    "\n",
    "for node in G.nodes():\n",
    "    x, y = G.node[node]['pos']\n",
    "    node_trace['x'] += tuple([x])\n",
    "    node_trace['y'] += tuple([y])"
   ]
  },
  {
   "cell_type": "code",
   "execution_count": 14,
   "metadata": {},
   "outputs": [],
   "source": [
    "#color the nodes and provide nr of connection information\n",
    "for node, adjacencies in enumerate(G.adjacency()):\n",
    "    node_trace['marker']['color']+=tuple([len(adjacencies[1])])\n",
    "    node_info = adjacencies[0] +' # of connections: '+str(len(adjacencies[1]))\n",
    "    node_trace['text']+=tuple([node_info])"
   ]
  },
  {
   "cell_type": "markdown",
   "metadata": {},
   "source": [
    "### Dash Application for Network Graph"
   ]
  },
  {
   "cell_type": "code",
   "execution_count": 15,
   "metadata": {},
   "outputs": [
    {
     "data": {
      "text/html": [
       "<div>\n",
       "  <iframe src=\"/app/endpoints/149e917bcd684b679470138febb122c7/\" width=800 height=600 frameborder=\"0\"></iframe>\n",
       "  <hr/><a href=\"/app/endpoints/149e917bcd684b679470138febb122c7/\" target=\"_new\">Open in new window</a> for /app/endpoints/149e917bcd684b679470138febb122c7/\n",
       "</div>"
      ],
      "text/plain": [
       "<jupyter_plotly_dash.dash_wrapper.JupyterDash at 0x1f9a031cac8>"
      ]
     },
     "execution_count": 15,
     "metadata": {},
     "output_type": "execute_result"
    }
   ],
   "source": [
    "from jupyter_plotly_dash import JupyterDash\n",
    "import dash\n",
    "import dash_html_components as html\n",
    "import dash_core_components as dcc\n",
    "from dash.dependencies import Input, Output\n",
    "\n",
    "app = JupyterDash('Graph_Example')\n",
    "\n",
    "graph_fig = gobj.Figure(data=[edge_trace, node_trace],\n",
    "                layout=gobj.Layout(\n",
    "                title='Alphabet Acquisitions Network Graph',\n",
    "                titlefont_size=24,\n",
    "                showlegend=False,\n",
    "                hovermode='closest',\n",
    "                margin=dict(b=40,l=10,r=10,t=40),\n",
    "                width=900,\n",
    "                height=900,\n",
    "                annotations=[ dict( showarrow=True,\n",
    "                                    xref=\"paper\", yref=\"paper\",\n",
    "                                    x=1, y=-2)],\n",
    "                xaxis=dict(showgrid=False, zeroline=False, showticklabels=False),\n",
    "                yaxis=dict(showgrid=False, zeroline=False, showticklabels=False))\n",
    "                )\n",
    "\n",
    "#display app layout\n",
    "app.layout = html.Div([html.Div(dcc.Graph(id='graph',figure=graph_fig))])\n",
    "app  \n"
   ]
  }
 ],
 "metadata": {
  "kernelspec": {
   "display_name": "Python 3",
   "language": "python",
   "name": "python3"
  },
  "language_info": {
   "codemirror_mode": {
    "name": "ipython",
    "version": 3
   },
   "file_extension": ".py",
   "mimetype": "text/x-python",
   "name": "python",
   "nbconvert_exporter": "python",
   "pygments_lexer": "ipython3",
   "version": "3.7.3"
  }
 },
 "nbformat": 4,
 "nbformat_minor": 4
}
