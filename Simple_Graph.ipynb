{
 "cells": [
  {
   "cell_type": "markdown",
   "metadata": {},
   "source": [
    "# Network Visualization of Company Acquisitions by Google"
   ]
  },
  {
   "cell_type": "markdown",
   "metadata": {},
   "source": [
    "### Acquiring the Dataset from Wikipedia"
   ]
  },
  {
   "cell_type": "markdown",
   "metadata": {},
   "source": [
    "The data is extracted using the wikipedia package and pandas. I only care about the table that lists all the acquisitions by google, so only extracting that."
   ]
  },
  {
   "cell_type": "code",
   "execution_count": 1,
   "metadata": {},
   "outputs": [],
   "source": [
    "import pandas as pd\n",
    "import wikipedia as wp\n",
    " \n",
    "#Get the html source\n",
    "html = wp.page(\"List_of_mergers_and_acquisitions_by_Alphabet\").html().encode(\"UTF-8\")\n",
    "\n",
    "#read the html\n",
    "df = pd.read_html(html)[0]\n",
    "\n",
    "#extract only desired columns\n",
    "df_final=df[['Company','Used as or integrated with']]"
   ]
  },
  {
   "cell_type": "code",
   "execution_count": 3,
   "metadata": {},
   "outputs": [],
   "source": [
    "#change column names\n",
    "\n",
    "##Acquired_Company: the company that Alphabet bought\n",
    "##New Operating Entity: the Alphabet entity under which the acquired company will operate\n",
    "df_final.rename(columns={'Company':'Acquired_Company',\n",
    "                    'Used as or integrated with':'New_Operating_Entity'}, inplace=True)"
   ]
  },
  {
   "cell_type": "code",
   "execution_count": 4,
   "metadata": {},
   "outputs": [],
   "source": [
    "#drop NA's\n",
    "df_final=df_final.dropna()"
   ]
  },
  {
   "cell_type": "markdown",
   "metadata": {},
   "source": [
    "### Quick Look at the Dataset"
   ]
  },
  {
   "cell_type": "code",
   "execution_count": 5,
   "metadata": {},
   "outputs": [
    {
     "data": {
      "text/html": [
       "<div>\n",
       "<style scoped>\n",
       "    .dataframe tbody tr th:only-of-type {\n",
       "        vertical-align: middle;\n",
       "    }\n",
       "\n",
       "    .dataframe tbody tr th {\n",
       "        vertical-align: top;\n",
       "    }\n",
       "\n",
       "    .dataframe thead th {\n",
       "        text-align: right;\n",
       "    }\n",
       "</style>\n",
       "<table border=\"1\" class=\"dataframe\">\n",
       "  <thead>\n",
       "    <tr style=\"text-align: right;\">\n",
       "      <th></th>\n",
       "      <th>Acquired_Company</th>\n",
       "      <th>New_Operating_Entity</th>\n",
       "    </tr>\n",
       "  </thead>\n",
       "  <tbody>\n",
       "  </tbody>\n",
       "</table>\n",
       "</div>"
      ],
      "text/plain": [
       "Empty DataFrame\n",
       "Columns: [Acquired_Company, New_Operating_Entity]\n",
       "Index: []"
      ]
     },
     "execution_count": 5,
     "metadata": {},
     "output_type": "execute_result"
    }
   ],
   "source": [
    "#get all rows that contain , in their string for Acquired_Company\n",
    "df_final[df_final['Acquired_Company'].str.contains(',')]"
   ]
  },
  {
   "cell_type": "code",
   "execution_count": 6,
   "metadata": {},
   "outputs": [
    {
     "data": {
      "text/html": [
       "<div>\n",
       "<style scoped>\n",
       "    .dataframe tbody tr th:only-of-type {\n",
       "        vertical-align: middle;\n",
       "    }\n",
       "\n",
       "    .dataframe tbody tr th {\n",
       "        vertical-align: top;\n",
       "    }\n",
       "\n",
       "    .dataframe thead th {\n",
       "        text-align: right;\n",
       "    }\n",
       "</style>\n",
       "<table border=\"1\" class=\"dataframe\">\n",
       "  <thead>\n",
       "    <tr style=\"text-align: right;\">\n",
       "      <th></th>\n",
       "      <th>Acquired_Company</th>\n",
       "      <th>New_Operating_Entity</th>\n",
       "    </tr>\n",
       "  </thead>\n",
       "  <tbody>\n",
       "    <tr>\n",
       "      <th>3</th>\n",
       "      <td>Neotonic Software</td>\n",
       "      <td>Google Groups, Gmail</td>\n",
       "    </tr>\n",
       "    <tr>\n",
       "      <th>4</th>\n",
       "      <td>Applied Semantics</td>\n",
       "      <td>AdSense, AdWords</td>\n",
       "    </tr>\n",
       "    <tr>\n",
       "      <th>6</th>\n",
       "      <td>Sprinks</td>\n",
       "      <td>AdSense, AdWords</td>\n",
       "    </tr>\n",
       "    <tr>\n",
       "      <th>9</th>\n",
       "      <td>Picasa</td>\n",
       "      <td>Picasa, Blogger</td>\n",
       "    </tr>\n",
       "    <tr>\n",
       "      <th>12</th>\n",
       "      <td>Keyhole</td>\n",
       "      <td>Google Maps, Google Earth</td>\n",
       "    </tr>\n",
       "    <tr>\n",
       "      <th>28</th>\n",
       "      <td>Neven Vision Germany</td>\n",
       "      <td>Picasa, Google Goggles</td>\n",
       "    </tr>\n",
       "    <tr>\n",
       "      <th>36</th>\n",
       "      <td>Marratech</td>\n",
       "      <td>Google Talk, Google Hangouts</td>\n",
       "    </tr>\n",
       "    <tr>\n",
       "      <th>50</th>\n",
       "      <td>On2</td>\n",
       "      <td>WebM, YouTube</td>\n",
       "    </tr>\n",
       "    <tr>\n",
       "      <th>52</th>\n",
       "      <td>AdMob</td>\n",
       "      <td>DoubleClick, Invite Media</td>\n",
       "    </tr>\n",
       "    <tr>\n",
       "      <th>53</th>\n",
       "      <td>Gizmo5</td>\n",
       "      <td>Google Talk, Google Hangouts</td>\n",
       "    </tr>\n",
       "    <tr>\n",
       "      <th>55</th>\n",
       "      <td>AppJet</td>\n",
       "      <td>Google Wave, Google Docs</td>\n",
       "    </tr>\n",
       "    <tr>\n",
       "      <th>63</th>\n",
       "      <td>LabPixies</td>\n",
       "      <td>iGoogle, Android</td>\n",
       "    </tr>\n",
       "    <tr>\n",
       "      <th>70</th>\n",
       "      <td>Zetawire</td>\n",
       "      <td>Android, Google Wallet, Google Checkout</td>\n",
       "    </tr>\n",
       "    <tr>\n",
       "      <th>72</th>\n",
       "      <td>Slide.com</td>\n",
       "      <td>Google+, Orkut, Google Play</td>\n",
       "    </tr>\n",
       "    <tr>\n",
       "      <th>73</th>\n",
       "      <td>Jambool</td>\n",
       "      <td>Google+, Orkut</td>\n",
       "    </tr>\n",
       "    <tr>\n",
       "      <th>75</th>\n",
       "      <td>Angstro</td>\n",
       "      <td>Google, Google Alert</td>\n",
       "    </tr>\n",
       "    <tr>\n",
       "      <th>76</th>\n",
       "      <td>SocialDeck</td>\n",
       "      <td>Google, Google+</td>\n",
       "    </tr>\n",
       "    <tr>\n",
       "      <th>80</th>\n",
       "      <td>Phonetic Arts</td>\n",
       "      <td>Google Voice, Google Translate</td>\n",
       "    </tr>\n",
       "    <tr>\n",
       "      <th>93</th>\n",
       "      <td>Admeld</td>\n",
       "      <td>DoubleClick, Invite Media</td>\n",
       "    </tr>\n",
       "    <tr>\n",
       "      <th>94</th>\n",
       "      <td>SageTV</td>\n",
       "      <td>Google TV, Google Fiber, Android TV</td>\n",
       "    </tr>\n",
       "    <tr>\n",
       "      <th>99</th>\n",
       "      <td>Motorola Mobility</td>\n",
       "      <td>Android, Google TV, Android TV, Patent portfolio</td>\n",
       "    </tr>\n",
       "    <tr>\n",
       "      <th>101</th>\n",
       "      <td>Zagat</td>\n",
       "      <td>Google Places, Google Maps</td>\n",
       "    </tr>\n",
       "    <tr>\n",
       "      <th>109</th>\n",
       "      <td>TxVia</td>\n",
       "      <td>Google Wallet, Google Checkout</td>\n",
       "    </tr>\n",
       "    <tr>\n",
       "      <th>114</th>\n",
       "      <td>Wildfire Interactive</td>\n",
       "      <td>Google, Google+</td>\n",
       "    </tr>\n",
       "    <tr>\n",
       "      <th>116</th>\n",
       "      <td>Nik Software</td>\n",
       "      <td>Google, Android</td>\n",
       "    </tr>\n",
       "    <tr>\n",
       "      <th>119</th>\n",
       "      <td>BufferBox</td>\n",
       "      <td>Google Shopping, Android</td>\n",
       "    </tr>\n",
       "    <tr>\n",
       "      <th>121</th>\n",
       "      <td>DNNresearch</td>\n",
       "      <td>Google, X</td>\n",
       "    </tr>\n",
       "    <tr>\n",
       "      <th>126</th>\n",
       "      <td>Waze</td>\n",
       "      <td>Google Maps , Waze</td>\n",
       "    </tr>\n",
       "    <tr>\n",
       "      <th>128</th>\n",
       "      <td>Flutter</td>\n",
       "      <td>Google, Android, X</td>\n",
       "    </tr>\n",
       "    <tr>\n",
       "      <th>142</th>\n",
       "      <td>spider.io</td>\n",
       "      <td>DoubleClick, Adsense</td>\n",
       "    </tr>\n",
       "    <tr>\n",
       "      <th>152</th>\n",
       "      <td>Skybox Imaging</td>\n",
       "      <td>Google Maps, Project Loon</td>\n",
       "    </tr>\n",
       "    <tr>\n",
       "      <th>157</th>\n",
       "      <td>Songza</td>\n",
       "      <td>Google Play, Android TV</td>\n",
       "    </tr>\n",
       "    <tr>\n",
       "      <th>159</th>\n",
       "      <td>Emu</td>\n",
       "      <td>Google Hangouts, Google Now</td>\n",
       "    </tr>\n",
       "    <tr>\n",
       "      <th>160</th>\n",
       "      <td>Director</td>\n",
       "      <td>YouTube, Android</td>\n",
       "    </tr>\n",
       "    <tr>\n",
       "      <th>177</th>\n",
       "      <td>Timeful</td>\n",
       "      <td>Google Inbox, Google Calendar</td>\n",
       "    </tr>\n",
       "    <tr>\n",
       "      <th>182</th>\n",
       "      <td>Agawi</td>\n",
       "      <td>Android, Google Play</td>\n",
       "    </tr>\n",
       "    <tr>\n",
       "      <th>203</th>\n",
       "      <td>Limes Audio</td>\n",
       "      <td>Google Duo, Google Hangouts</td>\n",
       "    </tr>\n",
       "    <tr>\n",
       "      <th>213</th>\n",
       "      <td>60db</td>\n",
       "      <td>Google Play Music, Google Podcasts</td>\n",
       "    </tr>\n",
       "  </tbody>\n",
       "</table>\n",
       "</div>"
      ],
      "text/plain": [
       "         Acquired_Company                              New_Operating_Entity\n",
       "3       Neotonic Software                              Google Groups, Gmail\n",
       "4       Applied Semantics                                  AdSense, AdWords\n",
       "6                 Sprinks                                  AdSense, AdWords\n",
       "9                  Picasa                                   Picasa, Blogger\n",
       "12                Keyhole                         Google Maps, Google Earth\n",
       "28   Neven Vision Germany                            Picasa, Google Goggles\n",
       "36              Marratech                      Google Talk, Google Hangouts\n",
       "50                    On2                                     WebM, YouTube\n",
       "52                  AdMob                         DoubleClick, Invite Media\n",
       "53                 Gizmo5                      Google Talk, Google Hangouts\n",
       "55                 AppJet                          Google Wave, Google Docs\n",
       "63              LabPixies                                  iGoogle, Android\n",
       "70               Zetawire           Android, Google Wallet, Google Checkout\n",
       "72              Slide.com                       Google+, Orkut, Google Play\n",
       "73                Jambool                                    Google+, Orkut\n",
       "75                Angstro                              Google, Google Alert\n",
       "76             SocialDeck                                   Google, Google+\n",
       "80          Phonetic Arts                    Google Voice, Google Translate\n",
       "93                 Admeld                         DoubleClick, Invite Media\n",
       "94                 SageTV               Google TV, Google Fiber, Android TV\n",
       "99      Motorola Mobility  Android, Google TV, Android TV, Patent portfolio\n",
       "101                 Zagat                        Google Places, Google Maps\n",
       "109                 TxVia                    Google Wallet, Google Checkout\n",
       "114  Wildfire Interactive                                   Google, Google+\n",
       "116          Nik Software                                   Google, Android\n",
       "119             BufferBox                          Google Shopping, Android\n",
       "121           DNNresearch                                         Google, X\n",
       "126                  Waze                                Google Maps , Waze\n",
       "128               Flutter                                Google, Android, X\n",
       "142             spider.io                              DoubleClick, Adsense\n",
       "152        Skybox Imaging                         Google Maps, Project Loon\n",
       "157                Songza                           Google Play, Android TV\n",
       "159                   Emu                       Google Hangouts, Google Now\n",
       "160              Director                                  YouTube, Android\n",
       "177               Timeful                     Google Inbox, Google Calendar\n",
       "182                 Agawi                              Android, Google Play\n",
       "203           Limes Audio                       Google Duo, Google Hangouts\n",
       "213                  60db                Google Play Music, Google Podcasts"
      ]
     },
     "execution_count": 6,
     "metadata": {},
     "output_type": "execute_result"
    }
   ],
   "source": [
    "#get all rows that contain , in their string for New_Operating_Entity\n",
    "df_final[df_final['New_Operating_Entity'].str.contains(',')]"
   ]
  },
  {
   "cell_type": "markdown",
   "metadata": {},
   "source": [
    "A quick investigation of the dataset reveals that some of the acquired companies will fall under more than one operating unit within Alphabet. For example, Applied Semantic will be under Adsense and Adwords. For this reason, we need to split these multiple entities into their own rows so everything is atomized."
   ]
  },
  {
   "cell_type": "code",
   "execution_count": 7,
   "metadata": {},
   "outputs": [],
   "source": [
    "# Split entity and expand row-wise. Store in a temporary dataframe\n",
    "temp_df = df_final.New_Operating_Entity.str.split(',').apply(pd.Series, 1).stack()\n",
    "\n",
    "# Drop index level to match main dataframe\n",
    "temp_df.index = temp_df.index.droplevel(-1)\n",
    "\n",
    "# Name new column\n",
    "temp_df.name = 'New_Operating_Entity'\n",
    "\n",
    "# Delete the original entity column\n",
    "del df_final['New_Operating_Entity']\n",
    "\n",
    "# Join the original dataframe with the temp df\n",
    "df_final = df_final.join(temp_df)"
   ]
  },
  {
   "cell_type": "code",
   "execution_count": 8,
   "metadata": {},
   "outputs": [
    {
     "data": {
      "text/plain": [
       "(268, 2)"
      ]
     },
     "execution_count": 8,
     "metadata": {},
     "output_type": "execute_result"
    }
   ],
   "source": [
    "df_final.shape"
   ]
  },
  {
   "cell_type": "code",
   "execution_count": 45,
   "metadata": {},
   "outputs": [],
   "source": [
    "df_final.to_csv('alphabet_acquisitions.csv')"
   ]
  },
  {
   "cell_type": "markdown",
   "metadata": {},
   "source": [
    "### Building a Directed Network Graph"
   ]
  },
  {
   "cell_type": "markdown",
   "metadata": {},
   "source": [
    "Start by loading all the necessary Dash and Networkx libraries.\n",
    "Resources utilized: \n",
    "* https://plot.ly/python/network-graphs/\n",
    "* https://python-graph-gallery.com/322-network-layout-possibilities/\n",
    "* https://plot.ly/python/reference/#scatter"
   ]
  },
  {
   "cell_type": "code",
   "execution_count": 31,
   "metadata": {},
   "outputs": [],
   "source": [
    "import networkx as nx\n",
    "import dash\n",
    "import dash_html_components as html\n",
    "import dash_core_components as dcc\n",
    "from dash.dependencies import Input, Output\n",
    "import plotly.graph_objs as gobj\n",
    "import matplotlib.pyplot as plt\n",
    "import plotly as plotly\n",
    "from plotly import *"
   ]
  },
  {
   "cell_type": "code",
   "execution_count": 34,
   "metadata": {},
   "outputs": [],
   "source": [
    "Company_List= list(df_final[\"Acquired_Company\"].unique())\n",
    "Entity_List = list(df_final[\"New_Operating_Entity\"].unique())\n",
    "node_list = list(set(Company_List+Entity_List))"
   ]
  },
  {
   "cell_type": "code",
   "execution_count": 17,
   "metadata": {},
   "outputs": [],
   "source": [
    "#create graph and add each node from nodelist to graph\n",
    "G = nx.Graph()\n",
    "for i in node_list:\n",
    "    G.add_node(i)"
   ]
  },
  {
   "cell_type": "code",
   "execution_count": 15,
   "metadata": {},
   "outputs": [
    {
     "name": "stdout",
     "output_type": "stream",
     "text": [
      "The number of nodes is: 324\n"
     ]
    }
   ],
   "source": [
    "print(\"The number of nodes is: {}\".format(len(G.nodes())))"
   ]
  },
  {
   "cell_type": "code",
   "execution_count": 19,
   "metadata": {},
   "outputs": [],
   "source": [
    "#get edges from the dataset pairs\n",
    "for row, company in df_final.iterrows():\n",
    "    G.add_edges_from([(company[\"Acquired_Company\"],company[\"New_Operating_Entity\"])])"
   ]
  },
  {
   "cell_type": "code",
   "execution_count": 20,
   "metadata": {},
   "outputs": [
    {
     "name": "stdout",
     "output_type": "stream",
     "text": [
      "The number of edges is: 268\n"
     ]
    }
   ],
   "source": [
    "print(\"The number of edges is: {}\".format(len(G.edges())))"
   ]
  },
  {
   "cell_type": "code",
   "execution_count": 21,
   "metadata": {},
   "outputs": [],
   "source": [
    "#get x and y coordinates of nodes\n",
    "pos = nx.spring_layout(G)\n",
    "\n",
    "#add node positions to the graph\n",
    "for i, j in pos.items():\n",
    "    G.node[i]['pos'] = j"
   ]
  },
  {
   "cell_type": "code",
   "execution_count": 22,
   "metadata": {},
   "outputs": [],
   "source": [
    "#create edges\n",
    "edge_trace = gobj.Scatter(\n",
    "    x=[],\n",
    "    y=[],\n",
    "    line=dict(width=0.5,color='#888'),\n",
    "    hoverinfo='none',\n",
    "    mode='lines')\n",
    "\n",
    "for edge in G.edges():\n",
    "    x0, y0 = G.node[edge[0]]['pos']\n",
    "    x1, y1 = G.node[edge[1]]['pos']\n",
    "    edge_trace['x'] += tuple([x0, x1, None])\n",
    "    edge_trace['y'] += tuple([y0, y1, None])"
   ]
  },
  {
   "cell_type": "code",
   "execution_count": 23,
   "metadata": {},
   "outputs": [],
   "source": [
    "#create nodes\n",
    "node_trace = gobj.Scatter(\n",
    "    x=[],\n",
    "    y=[],\n",
    "    text=[],\n",
    "    mode='markers',\n",
    "    hoverinfo='text',\n",
    "    marker=dict(\n",
    "        showscale=True,\n",
    "        colorscale='Portland',\n",
    "        reversescale=True,\n",
    "        color=[],\n",
    "        size=15,\n",
    "        colorbar=dict(\n",
    "            thickness=10,\n",
    "            title='Node Connections',\n",
    "            xanchor='left',\n",
    "            titleside='right'\n",
    "        ),\n",
    "        line=dict(width=0)))\n",
    "\n",
    "for node in G.nodes():\n",
    "    x, y = G.node[node]['pos']\n",
    "    node_trace['x'] += tuple([x])\n",
    "    node_trace['y'] += tuple([y])"
   ]
  },
  {
   "cell_type": "code",
   "execution_count": 24,
   "metadata": {},
   "outputs": [],
   "source": [
    "#color the nodes\n",
    "for node, adjacencies in enumerate(G.adjacency()):\n",
    "    node_trace['marker']['color']+=tuple([len(adjacencies[1])])\n",
    "    node_info = adjacencies[0] +' # of connections: '+str(len(adjacencies[1]))\n",
    "    node_trace['text']+=tuple([node_info])"
   ]
  },
  {
   "cell_type": "markdown",
   "metadata": {},
   "source": [
    "### Dash Application for Network Graph"
   ]
  },
  {
   "cell_type": "code",
   "execution_count": 41,
   "metadata": {},
   "outputs": [],
   "source": [
    "app = dash.Dash()\n",
    "app.css.append_css({\n",
    "    'external_url': 'https://codepen.io/chriddyp/pen/bWLwgP.css'})\n"
   ]
  },
  {
   "cell_type": "code",
   "execution_count": 42,
   "metadata": {},
   "outputs": [],
   "source": [
    "fig = gobj.Figure(data=[edge_trace, node_trace],\n",
    "             layout=gobj.Layout(\n",
    "                title='<br>Alphabet Acquisitions Network Graph',\n",
    "                titlefont_size=16,\n",
    "                showlegend=False,\n",
    "                hovermode='closest',\n",
    "                margin=dict(b=20,l=5,r=5,t=40),\n",
    "                annotations=[ dict(\n",
    "                    showarrow=False,\n",
    "                    xref=\"paper\", yref=\"paper\",\n",
    "                    x=0.005, y=-0.002 ) ],\n",
    "                xaxis=dict(showgrid=False, zeroline=False, showticklabels=False),\n",
    "                yaxis=dict(showgrid=False, zeroline=False, showticklabels=False))\n",
    "                )"
   ]
  },
  {
   "cell_type": "code",
   "execution_count": 43,
   "metadata": {},
   "outputs": [],
   "source": [
    "app.layout = html.Div([\n",
    "                html.Div(dcc.Graph(id='Graph',figure=fig)),\n",
    "                html.Div(className='row', children=[\n",
    "                    html.Div([html.H2('Overall Data'),\n",
    "                              html.P('Num of nodes: ' + str(len(G.nodes))),\n",
    "                              html.P('Num of edges: ' + str(len(G.edges)))],\n",
    "                              className='three columns'),\n",
    "                    html.Div([\n",
    "                            html.H2('Selected Data'),\n",
    "                            html.Div(id='selected-data'),\n",
    "                        ], className='six columns')\n",
    "                    ])\n",
    "                ])"
   ]
  },
  {
   "cell_type": "code",
   "execution_count": 44,
   "metadata": {},
   "outputs": [
    {
     "name": "stdout",
     "output_type": "stream",
     "text": [
      "Running on http://127.0.0.1:8050/\n",
      "Running on http://127.0.0.1:8050/\n",
      "Debugger PIN: 621-207-777\n",
      "Debugger PIN: 621-207-777\n",
      " * Serving Flask app \"__main__\" (lazy loading)\n",
      " * Environment: production\n",
      "   WARNING: This is a development server. Do not use it in a production deployment.\n",
      "   Use a production WSGI server instead.\n",
      " * Debug mode: on\n"
     ]
    },
    {
     "ename": "SystemExit",
     "evalue": "1",
     "output_type": "error",
     "traceback": [
      "An exception has occurred, use %tb to see the full traceback.\n",
      "\u001b[1;31mSystemExit\u001b[0m\u001b[1;31m:\u001b[0m 1\n"
     ]
    },
    {
     "name": "stderr",
     "output_type": "stream",
     "text": [
      "C:\\Users\\Ergo\\Anaconda3\\lib\\site-packages\\IPython\\core\\interactiveshell.py:3333: UserWarning:\n",
      "\n",
      "To exit: use 'exit', 'quit', or Ctrl-D.\n",
      "\n"
     ]
    }
   ],
   "source": [
    "@app.callback(\n",
    "    Output('selected-data', 'children'),\n",
    "    [Input('Graph','selectedData')])\n",
    "def display_selected_data(selectedData):\n",
    "    num_of_nodes = len(selectedData['points'])\n",
    "    text = [html.P('Num of nodes selected: '+str(num_of_nodes))]\n",
    "    for x in selectedData['points']:\n",
    "#        print(x['text'])\n",
    "        material = x['text'].split('<br>')[0][7:]\n",
    "        text.append(html.P(str(material)))\n",
    "    return text\n",
    "\n",
    "if __name__ == '__main__':\n",
    "    app.run_server(debug=True)"
   ]
  }
 ],
 "metadata": {
  "kernelspec": {
   "display_name": "Python 3",
   "language": "python",
   "name": "python3"
  },
  "language_info": {
   "codemirror_mode": {
    "name": "ipython",
    "version": 3
   },
   "file_extension": ".py",
   "mimetype": "text/x-python",
   "name": "python",
   "nbconvert_exporter": "python",
   "pygments_lexer": "ipython3",
   "version": "3.7.3"
  }
 },
 "nbformat": 4,
 "nbformat_minor": 4
}
